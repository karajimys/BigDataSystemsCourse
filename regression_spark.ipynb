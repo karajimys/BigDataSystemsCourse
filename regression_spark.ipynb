{
 "cells": [
  {
   "cell_type": "code",
   "execution_count": 34,
   "metadata": {},
   "outputs": [],
   "source": [
    "%matplotlib inline\n",
    "import matplotlib\n",
    "import numpy as np\n",
    "import matplotlib.pyplot as plt"
   ]
  },
  {
   "cell_type": "code",
   "execution_count": 35,
   "metadata": {},
   "outputs": [
    {
     "name": "stdout",
     "output_type": "stream",
     "text": [
      "[u'1', u'2011-01-01', u'1', u'0', u'1', u'0', u'0', u'6', u'0', u'1', u'0.24', u'0.2879', u'0.81', u'0', u'3', u'13', u'16']\n",
      "17379\n"
     ]
    }
   ],
   "source": [
    "path = \"hdfs:///data/hour_noheader.csv\"\n",
    "raw_data = sc.textFile(path)\n",
    "num_data = raw_data.count()\n",
    "records = raw_data.map(lambda x: x.split(\",\"))\n",
    "first = records.first()\n",
    "print first\n",
    "print num_data\n"
   ]
  },
  {
   "cell_type": "code",
   "execution_count": 36,
   "metadata": {},
   "outputs": [
    {
     "name": "stdout",
     "output_type": "stream",
     "text": [
      "Mapping of first categorical feature column: {u'1': 0, u'3': 1, u'2': 2, u'4': 3}\n"
     ]
    }
   ],
   "source": [
    "\n",
    "def get_mapping(rdd, idx):\n",
    "    return rdd.map(lambda fields: fields[idx]).distinct().zipWithIndex().collectAsMap()\n",
    "\n",
    "#test\n",
    "print \"Mapping of first categorical feature column: %s\" % get_mapping(records, 2)\n"
   ]
  },
  {
   "cell_type": "code",
   "execution_count": 37,
   "metadata": {
    "scrolled": true
   },
   "outputs": [
    {
     "name": "stdout",
     "output_type": "stream",
     "text": [
      "Feature vector length for categorical features: 57\n",
      "Feature vector length for numerical features: 4\n",
      "Total feature vector length: 61\n"
     ]
    }
   ],
   "source": [
    "mappings = [get_mapping(records, i) for i in range(2,10)]\n",
    "cat_len = sum(map(len, mappings))\n",
    "num_len = len(records.first()[11:15])\n",
    "total_len = num_len + cat_len\n",
    "print \"Feature vector length for categorical features: %d\" % cat_len\n",
    "print \"Feature vector length for numerical features: %d\" % num_len\n",
    "print \"Total feature vector length: %d\" % total_len\n",
    "\n"
   ]
  },
  {
   "cell_type": "code",
   "execution_count": 38,
   "metadata": {},
   "outputs": [
    {
     "data": {
      "text/plain": [
       "Text(0.5,1,u'Distribution of target variable values')"
      ]
     },
     "execution_count": 38,
     "metadata": {},
     "output_type": "execute_result"
    },
    {
     "data": {
      "image/png": "[encoded data removed]",
      "text/plain": [
       "<matplotlib.figure.Figure at 0x7fe0d3fe5ad0>"
      ]
     },
     "metadata": {},
     "output_type": "display_data"
    }
   ],
   "source": [
    "#explore target variable\n",
    "targets = records.map(lambda r: float(r[-1])).collect()\n",
    "plt.hist(targets, bins=40, color='lightblue', normed=True)\n",
    "fig = matplotlib.pyplot.gcf()\n",
    "plt.title(\"Distribution of target variable values\")\n",
    "\n"
   ]
  },
  {
   "cell_type": "code",
   "execution_count": 39,
   "metadata": {},
   "outputs": [],
   "source": [
    "#Creating feature vectors for the linear model\n",
    "#The next step is to use our extracted mappings to convert the categorical features to\n",
    "#binary-encoded features\n",
    "\n",
    "from pyspark.mllib.regression import LabeledPoint\n",
    "import numpy as np\n",
    "\n",
    "def extract_features(record):\n",
    "    cat_vec = np.zeros(cat_len)\n",
    "    i = 0\n",
    "    step = 0\n",
    "    for field in record[2:9]:\n",
    "        m = mappings[i]\n",
    "        idx = m[field]\n",
    "        cat_vec[idx + step] = 1\n",
    "        i = i + 1\n",
    "        step = step + len(m)\n",
    "    num_vec = np.array([float(field) for field in record[10:14]])\n",
    "    return np.concatenate((cat_vec, num_vec))\n",
    "\n",
    "def extract_label(record):\n",
    "    return float(record[-1])\n"
   ]
  },
  {
   "cell_type": "code",
   "execution_count": 40,
   "metadata": {},
   "outputs": [
    {
     "name": "stdout",
     "output_type": "stream",
     "text": [
      "Raw data: [u'1', u'0', u'1', u'0', u'0', u'6', u'0', u'1', u'0.24', u'0.2879', u'0.81', u'0', u'3', u'13', u'16']\n",
      "Label: 16.0\n",
      "Linear Model feature vector:\n",
      "[1.0,0.0,0.0,0.0,0.0,1.0,0.0,1.0,0.0,0.0,0.0,0.0,0.0,0.0,0.0,0.0,0.0,0.0,0.0,0.0,0.0,0.0,0.0,0.0,0.0,0.0,0.0,0.0,0.0,0.0,0.0,0.0,0.0,0.0,0.0,0.0,1.0,0.0,0.0,0.0,0.0,0.0,0.0,1.0,0.0,0.0,0.0,0.0,0.0,0.0,1.0,0.0,1.0,0.0,0.0,0.0,0.0,0.24,0.2879,0.81,0.0]\n",
      "Linear Model feature vector length: 61\n"
     ]
    }
   ],
   "source": [
    "data = records.map(lambda r: LabeledPoint(extract_label(r), extract_features(r)))\n",
    "#Let's inspect the first record in the extracted feature RDD:\n",
    "first_point = data.first()\n",
    "print \"Raw data: \" + str(first[2:])\n",
    "print \"Label: \" + str(first_point.label)\n",
    "print \"Linear Model feature vector:\\n\" + str(first_point.features)\n",
    "print \"Linear Model feature vector length: \" + str(len(first_point.\n",
    "features))\n"
   ]
  },
  {
   "cell_type": "markdown",
   "metadata": {},
   "source": [
    "As we can see, we converted the raw data into a feature vector made up of the binary\n",
    "categorical and real numeric features, and we indeed have a total vector length of 61.\n"
   ]
  },
  {
   "cell_type": "markdown",
   "metadata": {},
   "source": [
    "#Creating feature vectors for the decision tree\n",
    "\n",
    "Decision tree models typically work on raw features (that is, it is not required to convert categorical features into a binary vector encoding; they can, instead, be used directly). Therefore, we will create a separate function to extract the decision tree feature vector, which simply converts all the values to floats and wraps them in a numpy array\n"
   ]
  },
  {
   "cell_type": "code",
   "execution_count": 41,
   "metadata": {},
   "outputs": [
    {
     "name": "stdout",
     "output_type": "stream",
     "text": [
      "Decision Tree feature vector: [1.0,0.0,1.0,0.0,0.0,6.0,0.0,1.0,0.24,0.2879,0.81,0.0]\n",
      "Decision Tree feature vector length: 12\n"
     ]
    }
   ],
   "source": [
    "def extract_features_dt(record):\n",
    "    return np.array(map(float, record[2:14]))\n",
    "data_dt = records.map(lambda r: LabeledPoint(extract_label(r),\n",
    "extract_features_dt(r)))\n",
    "first_point_dt = data_dt.first()\n",
    "print \"Decision Tree feature vector: \" + str(first_point_dt.features)\n",
    "print \"Decision Tree feature vector length: \" + str(len(first_point_dt.features))\n"
   ]
  },
  {
   "cell_type": "code",
   "execution_count": 42,
   "metadata": {},
   "outputs": [],
   "source": [
    "from pyspark.mllib.regression import LinearRegressionWithSGD\n",
    "from pyspark.mllib.tree import DecisionTree\n"
   ]
  },
  {
   "cell_type": "code",
   "execution_count": 43,
   "metadata": {
    "scrolled": true
   },
   "outputs": [
    {
     "name": "stdout",
     "output_type": "stream",
     "text": [
      "Linear Model predictions: [(16.0, 117.89250386724846), (40.0, 116.2249612319211), (32.0, 116.02369145779235), (13.0, 115.67088016754433), (1.0, 115.56315650834317)]\n"
     ]
    }
   ],
   "source": [
    "#Training a regression model\n",
    "linear_model = LinearRegressionWithSGD.train(data, iterations=10,\n",
    "step=0.1, intercept=False)\n",
    "true_vs_predicted = data.map(lambda p: (p.label, linear_model.predict(p.features)))\n",
    "print \"Linear Model predictions: \" +str(true_vs_predicted.take(5))\n"
   ]
  },
  {
   "cell_type": "code",
   "execution_count": 44,
   "metadata": {},
   "outputs": [
    {
     "name": "stdout",
     "output_type": "stream",
     "text": [
      "Decision Tree predictions: [(16.0, 54.913223140495866), (40.0, 54.913223140495866), (32.0, 53.171052631578945), (13.0, 14.284023668639053), (1.0, 14.284023668639053)]\n",
      "Decision Tree depth: 5\n",
      "Decision Tree number of nodes: 63\n"
     ]
    }
   ],
   "source": [
    "#Training a desicion tree model\n",
    "dt_model = DecisionTree.trainRegressor(data_dt,{})\n",
    "preds = dt_model.predict(data_dt.map(lambda p: p.features))\n",
    "actual = data.map(lambda p: p.label)\n",
    "true_vs_predicted_dt = actual.zip(preds)\n",
    "print \"Decision Tree predictions: \" + str(true_vs_predicted_dt.take(5))\n",
    "print \"Decision Tree depth: \" + str(dt_model.depth())\n",
    "print \"Decision Tree number of nodes: \" + str(dt_model.numNodes())\n"
   ]
  },
  {
   "cell_type": "code",
   "execution_count": 45,
   "metadata": {},
   "outputs": [],
   "source": [
    "#Evaluating the performance of regression models\n",
    "#define Mean Square Error\n",
    "def squared_error(actual, pred):\n",
    "    return (pred - actual)**2\n",
    "\n",
    "#define Mean Absolute Error\n",
    "def abs_error(actual, pred):\n",
    "    return np.abs(pred - actual)\n",
    "\n",
    "#define Root Mean Squared Log Error (used in kaggle competition for the specific dataset)\n",
    "# https://www.kaggle.com/c/bike-sharing-demand#evaluation\n",
    "def squared_log_error(pred, actual):\n",
    "    return (np.log(pred + 1) - np.log(actual + 1))**2\n"
   ]
  },
  {
   "cell_type": "code",
   "execution_count": 46,
   "metadata": {
    "scrolled": true
   },
   "outputs": [
    {
     "name": "stdout",
     "output_type": "stream",
     "text": [
      "Linear Model - Mean Squared Error: 30679.4539\n",
      "Linear Model - Mean Absolute Error: 130.6429\n",
      "Linear Model - Root Mean Squared Log Error: 1.4653\n",
      "-------------------------------------------------------\n",
      "Decision Tree - Mean Squared Error: 11611.4860\n",
      "Decision Tree - Mean Absolute Error: 71.1502\n",
      "Decision Tree - Root Mean Squared Log Error: 0.6251\n"
     ]
    }
   ],
   "source": [
    " #Performance metrics on the bike sharing dataset\n",
    "mse= true_vs_predicted.map(lambda (t, p): squared_error(t, p)).mean()\n",
    "mae = true_vs_predicted.map(lambda (t, p): abs_error(t, p)).mean()\n",
    "rmsle = np.sqrt(true_vs_predicted.map(lambda (t, p): squared_log_error(t, p)).mean())\n",
    "print \"Linear Model - Mean Squared Error: %2.4f\" % mse\n",
    "print \"Linear Model - Mean Absolute Error: %2.4f\" % mae\n",
    "print \"Linear Model - Root Mean Squared Log Error: %2.4f\" % rmsle\n",
    "print \"-------------------------------------------------------\"\n",
    "mse_dt = true_vs_predicted_dt.map(lambda (t, p): squared_error(t, p)).mean()\n",
    "mae_dt = true_vs_predicted_dt.map(lambda (t, p): abs_error(t, p)).mean()\n",
    "rmsle_dt = np.sqrt(true_vs_predicted_dt.map(lambda (t, p): squared_log_error(t, p)).mean())\n",
    "print \"Decision Tree - Mean Squared Error: %2.4f\" % mse_dt\n",
    "print \"Decision Tree - Mean Absolute Error: %2.4f\" % mae_dt\n",
    "print \"Decision Tree - Root Mean Squared Log Error: %2.4f\" % rmsle_dt\n"
   ]
  },
  {
   "cell_type": "code",
   "execution_count": 47,
   "metadata": {},
   "outputs": [
    {
     "name": "stdout",
     "output_type": "stream",
     "text": [
      "Linear Model - Mean Squared Error: 31078.9337\n",
      "Linear Model - Mean Absolute Error: 130.6189\n",
      "Linear Model - Root Mean Squared Log Error: 1.4646\n"
     ]
    }
   ],
   "source": [
    "#LINEAR REGRESSION MODEL\n",
    "#split data to training and test\n",
    "(trainingData, testData) = data.randomSplit([0.8, 0.2])\n",
    "linear_model = LinearRegressionWithSGD.train(trainingData, iterations=10, step=0.1, intercept=False)\n",
    "#true_vs_predicted = data.map(lambda p: (p.label, linear_model.predict(p.features)))\n",
    "predictions = linear_model .predict(testData.map(lambda x: x.features))\n",
    "labelsAndPredictions = testData.map(lambda lp: lp.label).zip(predictions)\n",
    "testmse= labelsAndPredictions.map(lambda (t, p): squared_error(t, p)).mean()\n",
    "testmae = labelsAndPredictions.map(lambda (t, p): abs_error(t, p)).mean()\n",
    "testrmsle = np.sqrt(labelsAndPredictions.map(lambda (t, p): squared_log_error(t, p)).mean())\n",
    "print \"Linear Model - Mean Squared Error: %2.4f\" % testmse\n",
    "print \"Linear Model - Mean Absolute Error: %2.4f\" % testmae\n",
    "print \"Linear Model - Root Mean Squared Log Error: %2.4f\" % testrmsle\n",
    "\n"
   ]
  },
  {
   "cell_type": "code",
   "execution_count": 48,
   "metadata": {},
   "outputs": [
    {
     "data": {
      "text/plain": [
       "13837"
      ]
     },
     "execution_count": 48,
     "metadata": {},
     "output_type": "execute_result"
    }
   ],
   "source": [
    "trainingData.count()"
   ]
  },
  {
   "cell_type": "code",
   "execution_count": 49,
   "metadata": {},
   "outputs": [
    {
     "data": {
      "text/plain": [
       "3542"
      ]
     },
     "execution_count": 49,
     "metadata": {},
     "output_type": "execute_result"
    }
   ],
   "source": [
    "testData.count()"
   ]
  },
  {
   "cell_type": "markdown",
   "metadata": {},
   "source": [
    "\n",
    "Another way to create train and test sets is to do it manually.One relatively easy way to do this is by first taking a random sample of, say,20 percent of our data as our test set. We will then define our training set as the elements of the original RDD that are not in the test set RDD. We can achieve this using the sample method to take a random sample for our test set, followed by using the subtractByKey method, which takes care of returning the elements in one RDD where the keys do not overlap with the other RDD.Note that subtractByKey, as the name suggests, works on the keys of the RDD elements that consist of key-value pairs. Therefore, here we will use zipWithIndex on our RDD of extracted training examples. This creates an RDD of (LabeledPoint, index) pairs.\n",
    "\n",
    "We will then reverse the keys and values so that we can operate on the index keys.Once we have the two RDDs, we will recover just the LabeledPoint instances we need for training and test data, using map to extract the value from the key-value pairs:\n"
   ]
  },
  {
   "cell_type": "code",
   "execution_count": 50,
   "metadata": {},
   "outputs": [
    {
     "name": "stdout",
     "output_type": "stream",
     "text": [
      "Training data size: 13934\n",
      "Test data size: 3445\n",
      "Total data size: 17379 \n"
     ]
    }
   ],
   "source": [
    "data_with_idx = data.zipWithIndex().map(lambda (k, v): (v, k))\n",
    "test = data_with_idx.sample(False, 0.2, 42)\n",
    "train = data_with_idx.subtractByKey(test)\n",
    "train_data = train.map(lambda (idx, p): p)\n",
    "test_data = test.map(lambda (idx, p) : p)\n",
    "train_size = train_data.count()\n",
    "test_size = test_data.count()\n",
    "print \"Training data size: %d\" % train_size\n",
    "print \"Test data size: %d\" % test_size\n",
    "print \"Total data size: %d \" % num_data\n"
   ]
  },
  {
   "cell_type": "markdown",
   "metadata": {},
   "source": [
    "The impact of parameter settings for linear models\n",
    "\n",
    "Now that we have prepared our training and test sets, we are ready to investigate the impact of different parameter settings on model performance. We will create a function to evaluate the relevant performance metric by training the model on the training set and evaluating it on the test set for different parameter settings.\n"
   ]
  },
  {
   "cell_type": "code",
   "execution_count": 51,
   "metadata": {},
   "outputs": [],
   "source": [
    "def evaluate(train, test, iterations, step, regParam, regType, intercept):\n",
    "    model = LinearRegressionWithSGD.train(train, iterations, step, regParam=regParam, regType=regType, intercept=intercept)\n",
    "    tp = test.map(lambda p: (p.label, model.predict(p.features)))\n",
    "    rmsle = np.sqrt(tp.map(lambda (t, p): squared_log_error(t, p)).mean())\n",
    "    return rmsle\n"
   ]
  },
  {
   "cell_type": "markdown",
   "metadata": {},
   "source": [
    "Iterations\n",
    "We generally expect that a model trained with SGD will achieve better performance as the number of iterations increases, although the increase in performance will slow down as the number of iterations goes above some minimum number.\n"
   ]
  },
  {
   "cell_type": "code",
   "execution_count": 52,
   "metadata": {},
   "outputs": [
    {
     "name": "stdout",
     "output_type": "stream",
     "text": [
      "[1, 5, 10, 20, 50, 100, 200, 300]\n",
      "[2.8779465130028199, 2.0390187660391499, 1.7761565324837874, 1.5828778102209105, 1.4382263191764473, 1.4050638054019449, 1.4191482045051593, 1.4388932330049959]\n"
     ]
    }
   ],
   "source": [
    "params = [1, 5, 10, 20, 50, 100,200,300]\n",
    "metrics = [evaluate(train_data, test_data, param, 0.01, 0.0, 'l2',\n",
    "False) for param in params]\n",
    "print params\n",
    "print metrics\n"
   ]
  },
  {
   "cell_type": "code",
   "execution_count": 53,
   "metadata": {},
   "outputs": [
    {
     "data": {
      "text/plain": [
       "Text(0.5,1,u'Metrics for varying number of iterations')"
      ]
     },
     "execution_count": 53,
     "metadata": {},
     "output_type": "execute_result"
    },
    {
     "data": {
      "image/png": "[encoded data removed]",
      "text/plain": [
       "<matplotlib.figure.Figure at 0x7fe0d84ca350>"
      ]
     },
     "metadata": {},
     "output_type": "display_data"
    }
   ],
   "source": [
    "#plot a graph of the RMSLE metric against the number of iterations.\n",
    "plt.plot(params, metrics)\n",
    "fig = matplotlib.pyplot.gcf()\n",
    "plt.xscale('log')\n",
    "plt.title('Metrics for varying number of iterations')\n"
   ]
  },
  {
   "cell_type": "code",
   "execution_count": 54,
   "metadata": {},
   "outputs": [
    {
     "name": "stdout",
     "output_type": "stream",
     "text": [
      "[0.01, 0.025, 0.05, 0.1, 0.2, 0.4]\n",
      "[1.7761565324837874, 1.4379348243997032, 1.4189071944747718, 1.5027293911925559, 1.5384660954019973, 1.4948198206072132]\n"
     ]
    }
   ],
   "source": [
    "#Step size\n",
    "#We will perform a similar analysis for step size in the following code:\n",
    "params = [0.01, 0.025, 0.05, 0.1, 0.2,0.4]\n",
    "metrics = [evaluate(train_data, test_data, 10, param, 0.0, 'l2',\n",
    "False) for param in params]\n",
    "print params\n",
    "print metrics\n",
    "\n"
   ]
  },
  {
   "cell_type": "code",
   "execution_count": 55,
   "metadata": {},
   "outputs": [
    {
     "data": {
      "text/plain": [
       "Text(0.5,1,u'Metrics for varying values of step size')"
      ]
     },
     "execution_count": 55,
     "metadata": {},
     "output_type": "execute_result"
    },
    {
     "data": {
      "image/png": "[encoded data removed]",
      "text/plain": [
       "<matplotlib.figure.Figure at 0x7fe0d3d7e890>"
      ]
     },
     "metadata": {},
     "output_type": "display_data"
    }
   ],
   "source": [
    "plt.plot(params, metrics)\n",
    "fig = matplotlib.pyplot.gcf()\n",
    "plt.xscale('log')\n",
    "plt.title('Metrics for varying values of step size')\n"
   ]
  },
  {
   "cell_type": "markdown",
   "metadata": {},
   "source": [
    "L2 regularization\n",
    "Regularization has the effect of penalizing model complexity in the form of an additional loss term that is a function of the model weight vector. We will evaluate the impact of different levels of L2 regularization \n"
   ]
  },
  {
   "cell_type": "code",
   "execution_count": 56,
   "metadata": {},
   "outputs": [
    {
     "name": "stdout",
     "output_type": "stream",
     "text": [
      "[0.0, 0.01, 0.1, 0.5, 1.0, 3.0, 5.0, 10.0, 20.0]\n",
      "[1.5027293911925559, 1.5020646031965639, 1.4961903335175231, 1.4724237224453407, 1.4479313176192781, 1.4004900385900405, 1.4113329999970989, 1.5379824584440471, 1.8279564444985839]\n"
     ]
    }
   ],
   "source": [
    "params = [0.0, 0.01, 0.1, 0.5, 1.0,3.0, 5.0, 10.0, 20.0]\n",
    "metrics = [evaluate(train_data, test_data, 10, 0.1, param, 'l2',\n",
    "False) for param in params]\n",
    "print params\n",
    "print metrics\n"
   ]
  },
  {
   "cell_type": "code",
   "execution_count": 57,
   "metadata": {},
   "outputs": [
    {
     "data": {
      "text/plain": [
       "Text(0.5,1,u'Metrics for varying levels of L2 regularization')"
      ]
     },
     "execution_count": 57,
     "metadata": {},
     "output_type": "execute_result"
    },
    {
     "data": {
      "image/png": "[encoded data removed]",
      "text/plain": [
       "<matplotlib.figure.Figure at 0x7fe0d3d33ad0>"
      ]
     },
     "metadata": {},
     "output_type": "display_data"
    }
   ],
   "source": [
    "plt.plot(params, metrics)\n",
    "fig = matplotlib.pyplot.gcf()\n",
    "plt.xscale('log')\n",
    "plt.title('Metrics for varying levels of L2 regularization')\n"
   ]
  },
  {
   "cell_type": "markdown",
   "metadata": {},
   "source": [
    "L1 regularization\n",
    "We can apply the same approach for differing levels of L1 regularization:\n"
   ]
  },
  {
   "cell_type": "code",
   "execution_count": 58,
   "metadata": {},
   "outputs": [
    {
     "name": "stdout",
     "output_type": "stream",
     "text": [
      "[0.0, 0.01, 0.1, 1.0, 10.0, 100.0, 1000.0]\n",
      "[1.5027293911925559, 1.5026938950690176, 1.5023761634555697, 1.499412856617814, 1.4713669769550108, 1.7596682962964316, 4.7551250073268614]\n"
     ]
    }
   ],
   "source": [
    "params = [0.0, 0.01, 0.1, 1.0, 10.0, 100.0, 1000.0]\n",
    "metrics = [evaluate(train_data, test_data, 10, 0.1, param, 'l1', False) for param in params]\n",
    "print params\n",
    "print metrics\n",
    "\n",
    "\n"
   ]
  },
  {
   "cell_type": "code",
   "execution_count": 59,
   "metadata": {},
   "outputs": [
    {
     "data": {
      "text/plain": [
       "Text(0.5,1,u'Metrics for varying levels of L1 regularization')"
      ]
     },
     "execution_count": 59,
     "metadata": {},
     "output_type": "execute_result"
    },
    {
     "data": {
      "image/png": "[encoded data removed]",
      "text/plain": [
       "<matplotlib.figure.Figure at 0x7fe0d3b64cd0>"
      ]
     },
     "metadata": {},
     "output_type": "display_data"
    }
   ],
   "source": [
    "plt.plot(params, metrics)\n",
    "fig = matplotlib.pyplot.gcf()\n",
    "plt.xscale('log')\n",
    "plt.title('Metrics for varying levels of L1 regularization')"
   ]
  },
  {
   "cell_type": "markdown",
   "metadata": {},
   "source": [
    "Intercept\n",
    "\n",
    "An intercept is a constant term that is added to the weight vector and effectively accounts for the mean value of the target variable. \n",
    "\n",
    "We will evaluate the effect of adding an intercept term to the model here:\n",
    "\n",
    "\n"
   ]
  },
  {
   "cell_type": "code",
   "execution_count": 60,
   "metadata": {},
   "outputs": [
    {
     "name": "stdout",
     "output_type": "stream",
     "text": [
      "[False, True]\n",
      "[1.4479313176192781, 1.4798261513419801]\n"
     ]
    }
   ],
   "source": [
    "params = [False, True]\n",
    "metrics = [evaluate(train_data, test_data, 10, 0.1, 1.0, 'l2', param)\n",
    "for param in params]\n",
    "print params\n",
    "print metrics\n"
   ]
  },
  {
   "cell_type": "markdown",
   "metadata": {},
   "source": [
    "The impact of parameter settings for the decision tree\n",
    "Decision trees provide two main parameters: maximum tree depth and the maximum number of bins.\n",
    "We create an evaluation function for the model, similar to the one used for the linear regression\n"
   ]
  },
  {
   "cell_type": "code",
   "execution_count": 61,
   "metadata": {},
   "outputs": [],
   "source": [
    "def evaluate_dt(train, test, maxDepth, maxBins):\n",
    "    model = DecisionTree.trainRegressor(train, {}, impurity='variance', maxDepth=maxDepth, maxBins=maxBins)\n",
    "    preds = model.predict(test.map(lambda p: p.features))\n",
    "    actual = test.map(lambda p: p.label)\n",
    "    tp = actual.zip(preds)\n",
    "    rmsle = np.sqrt(tp.map(lambda (t, p): squared_log_error(t,p)).mean())\n",
    "    return rmsle\n"
   ]
  },
  {
   "cell_type": "markdown",
   "metadata": {},
   "source": [
    "Tree depth\n",
    "Now we will explore the depth of the tree. We would generally expect performance to increase with more complex trees.\n"
   ]
  },
  {
   "cell_type": "code",
   "execution_count": 62,
   "metadata": {},
   "outputs": [
    {
     "name": "stdout",
     "output_type": "stream",
     "text": [
      "[1, 2, 3, 4, 5, 8, 10, 15, 20, 30]\n",
      "[1.5180698755025512, 1.4861824245882309, 1.4451649790528107, 1.408486119049464, 1.3540282148150857, 1.2390122521015714, 1.106353854645167, 0.73882898205683167, 0.60218451973793063, 0.56603328490729565]\n"
     ]
    }
   ],
   "source": [
    "params = [1, 2, 3, 4, 5,8, 10,15,20,30]\n",
    "metrics = [evaluate_dt(train_data, test_data, param, 32) for\n",
    "param in params]\n",
    "print params\n",
    "print metrics\n"
   ]
  },
  {
   "cell_type": "code",
   "execution_count": 63,
   "metadata": {},
   "outputs": [
    {
     "data": {
      "text/plain": [
       "Text(0.5,1,u'Metrics for different tree depths')"
      ]
     },
     "execution_count": 63,
     "metadata": {},
     "output_type": "execute_result"
    },
    {
     "data": {
      "image/png": "[encoded data removed]",
      "text/plain": [
       "<matplotlib.figure.Figure at 0x7fe0d3bd58d0>"
      ]
     },
     "metadata": {},
     "output_type": "display_data"
    }
   ],
   "source": [
    "plt.plot(params, metrics)\n",
    "fig = matplotlib.pyplot.gcf()\n",
    "plt.title('Metrics for different tree depths')\n"
   ]
  },
  {
   "cell_type": "markdown",
   "metadata": {},
   "source": [
    "\n",
    "Maximum bins\n",
    "\n",
    "We will perform our evaluation on the impact of setting the number of bins for the decision tree. As with the tree depth, a larger number of bins should allow the model to become more complex and might help performance with larger feature\n",
    "dimensions.\n"
   ]
  },
  {
   "cell_type": "code",
   "execution_count": 64,
   "metadata": {},
   "outputs": [
    {
     "name": "stdout",
     "output_type": "stream",
     "text": [
      "[2, 4, 8, 16, 32, 64, 80, 100]\n",
      "[1.3559275822161809, 1.3547441915012883, 1.3548062474637748, 1.353996636371803, 1.3540282148150857, 1.3503754519074669, 1.3503754519074669, 1.3503754519074669]\n"
     ]
    }
   ],
   "source": [
    "params = [2, 4, 8, 16, 32, 64, 80, 100]\n",
    "metrics = [evaluate_dt(train_data, test_data, 5, param) for\n",
    "param in params]\n",
    "print params\n",
    "print metrics\n"
   ]
  },
  {
   "cell_type": "code",
   "execution_count": 65,
   "metadata": {},
   "outputs": [
    {
     "data": {
      "text/plain": [
       "Text(0.5,1,u'Metrics for different maximum bins')"
      ]
     },
     "execution_count": 65,
     "metadata": {},
     "output_type": "execute_result"
    },
    {
     "data": {
      "image/png": "[encoded data removed]",
      "text/plain": [
       "<matplotlib.figure.Figure at 0x7fe0d39713d0>"
      ]
     },
     "metadata": {},
     "output_type": "display_data"
    }
   ],
   "source": [
    "plt.plot(params, metrics)\n",
    "fig = matplotlib.pyplot.gcf()\n",
    "plt.title('Metrics for different maximum bins')\n"
   ]
  }
 ],
 "metadata": {
  "kernelspec": {
   "display_name": "Python 2",
   "language": "python",
   "name": "python2"
  },
  "language_info": {
   "codemirror_mode": {
    "name": "ipython",
    "version": 2
   },
   "file_extension": ".py",
   "mimetype": "text/x-python",
   "name": "python",
   "nbconvert_exporter": "python",
   "pygments_lexer": "ipython2",
   "version": "2.7.12"
  }
 },
 "nbformat": 4,
 "nbformat_minor": 2
}
